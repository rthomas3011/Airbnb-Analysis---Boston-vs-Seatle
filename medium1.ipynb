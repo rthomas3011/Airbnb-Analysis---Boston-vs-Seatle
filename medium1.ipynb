{
 "cells": [
  {
   "cell_type": "code",
   "execution_count": 9,
   "metadata": {},
   "outputs": [],
   "source": [
    "#import necessary packages\n",
    "import pandas as pd\n",
    "import numpy as np"
   ]
  },
  {
   "cell_type": "code",
   "execution_count": 10,
   "metadata": {},
   "outputs": [],
   "source": [
    "boston_reviews = pd.read_csv('boston/reviews.csv')"
   ]
  },
  {
   "cell_type": "code",
   "execution_count": 11,
   "metadata": {},
   "outputs": [],
   "source": [
    "boston_listings = pd.read_csv('boston/listings.csv')"
   ]
  },
  {
   "cell_type": "code",
   "execution_count": 12,
   "metadata": {},
   "outputs": [
    {
     "name": "stderr",
     "output_type": "stream",
     "text": [
      "/var/folders/xh/hfqxf1xx32b_wlmnwcqbn8400000gn/T/ipykernel_12183/772554552.py:2: FutureWarning: The default value of regex will change from True to False in a future version. In addition, single character regular expressions will *not* be treated as literal strings when regex=True.\n",
      "  boston_listings['price'] = boston_listings['price'].str.replace('$', '')\n"
     ]
    },
    {
     "data": {
      "text/plain": [
       "173.9258019525802"
      ]
     },
     "execution_count": 12,
     "metadata": {},
     "output_type": "execute_result"
    }
   ],
   "source": [
    "#clean up data to calculate for average pricing for both Seattle and Boston\n",
    "boston_listings['price'] = boston_listings['price'].str.replace('$', '')\n",
    "boston_listings['price'] = boston_listings['price'].str.replace(',', '')\n",
    "boston_listings['price'] = boston_listings['price'].astype(float)\n",
    "boston_listings['price'].mean()"
   ]
  },
  {
   "cell_type": "code",
   "execution_count": 4,
   "metadata": {},
   "outputs": [
    {
     "data": {
      "text/plain": [
       "array(['f', 't'], dtype=object)"
      ]
     },
     "execution_count": 4,
     "metadata": {},
     "output_type": "execute_result"
    }
   ],
   "source": [
    "#determine how many unique values are in this column\n",
    "boston_listings['host_is_superhost'].unique()"
   ]
  },
  {
   "cell_type": "code",
   "execution_count": 5,
   "metadata": {},
   "outputs": [
    {
     "data": {
      "text/plain": [
       "f    3178\n",
       "t     407\n",
       "Name: host_is_superhost, dtype: int64"
      ]
     },
     "execution_count": 5,
     "metadata": {},
     "output_type": "execute_result"
    }
   ],
   "source": [
    "#how to find the count for each unique value in a column?\n",
    "boston_listings['host_is_superhost'].value_counts()"
   ]
  },
  {
   "cell_type": "code",
   "execution_count": 6,
   "metadata": {},
   "outputs": [
    {
     "data": {
      "text/plain": [
       "0.11352859135285913"
      ]
     },
     "execution_count": 6,
     "metadata": {},
     "output_type": "execute_result"
    }
   ],
   "source": [
    "boston_listings_superhost = 407/(3178+407)\n",
    "boston_listings_superhost"
   ]
  },
  {
   "cell_type": "code",
   "execution_count": 15,
   "metadata": {},
   "outputs": [],
   "source": [
    "#find average price for boston_listings\n",
    "boston_listings['price'].mean()"
   ]
  },
  {
   "cell_type": "code",
   "execution_count": 11,
   "metadata": {},
   "outputs": [],
   "source": [
    "seattle_listings = pd.read_csv('seattle/listings.csv')"
   ]
  },
  {
   "cell_type": "code",
   "execution_count": 12,
   "metadata": {},
   "outputs": [],
   "source": [
    "seattle_listings['price'] = seattle_listings['price'].str.replace(',', '')"
   ]
  },
  {
   "cell_type": "code",
   "execution_count": 13,
   "metadata": {},
   "outputs": [
    {
     "name": "stderr",
     "output_type": "stream",
     "text": [
      "/var/folders/xh/hfqxf1xx32b_wlmnwcqbn8400000gn/T/ipykernel_54710/2730390150.py:1: FutureWarning: The default value of regex will change from True to False in a future version. In addition, single character regular expressions will *not* be treated as literal strings when regex=True.\n",
      "  seattle_listings['price'] = seattle_listings['price'].str.replace('$', '')\n"
     ]
    }
   ],
   "source": [
    "seattle_listings['price'] = seattle_listings['price'].str.replace('$', '')"
   ]
  },
  {
   "cell_type": "code",
   "execution_count": 14,
   "metadata": {},
   "outputs": [],
   "source": [
    "seattle_listings['price'] = seattle_listings['price'].astype(float)"
   ]
  },
  {
   "cell_type": "code",
   "execution_count": 67,
   "metadata": {},
   "outputs": [
    {
     "data": {
      "text/plain": [
       "127.97616553169199"
      ]
     },
     "execution_count": 67,
     "metadata": {},
     "output_type": "execute_result"
    }
   ],
   "source": [
    "seattle_listings['price'].mean()"
   ]
  },
  {
   "cell_type": "code",
   "execution_count": 73,
   "metadata": {},
   "outputs": [
    {
     "data": {
      "text/plain": [
       "f    3038\n",
       "t     778\n",
       "Name: host_is_superhost, dtype: int64"
      ]
     },
     "execution_count": 73,
     "metadata": {},
     "output_type": "execute_result"
    }
   ],
   "source": [
    "seattle_listings['host_is_superhost'].value_counts()"
   ]
  },
  {
   "cell_type": "code",
   "execution_count": 1,
   "metadata": {},
   "outputs": [
    {
     "data": {
      "text/plain": [
       "0.2038784067085954"
      ]
     },
     "execution_count": 1,
     "metadata": {},
     "output_type": "execute_result"
    }
   ],
   "source": [
    "seattle_listings_superhost = 778/(3038+778)\n",
    "seattle_listings_superhost"
   ]
  },
  {
   "cell_type": "code",
   "execution_count": 94,
   "metadata": {},
   "outputs": [
    {
     "data": {
      "text/plain": [
       "False    37072\n",
       "True     31150\n",
       "Name: comments, dtype: int64"
      ]
     },
     "execution_count": 94,
     "metadata": {},
     "output_type": "execute_result"
    }
   ],
   "source": [
    "#how to find positive or negative reviews based on comments\n",
    "boston_reviews['comments'].str.contains('good|great').value_counts()"
   ]
  },
  {
   "cell_type": "code",
   "execution_count": 93,
   "metadata": {},
   "outputs": [
    {
     "data": {
      "text/plain": [
       "True     43002\n",
       "False    41829\n",
       "Name: comments, dtype: int64"
      ]
     },
     "execution_count": 93,
     "metadata": {},
     "output_type": "execute_result"
    }
   ],
   "source": [
    "seattle_reviews['comments'].str.contains('good|great').value_counts()"
   ]
  },
  {
   "cell_type": "code",
   "execution_count": 3,
   "metadata": {},
   "outputs": [
    {
     "data": {
      "text/plain": [
       "0.5140213727318368"
      ]
     },
     "execution_count": 3,
     "metadata": {},
     "output_type": "execute_result"
    }
   ],
   "source": [
    "seattle_reviews_comments = 43002/(41829+41829)\n",
    "seattle_reviews_comments"
   ]
  },
  {
   "cell_type": "code",
   "execution_count": 4,
   "metadata": {},
   "outputs": [
    {
     "data": {
      "text/plain": [
       "0.456597578493741"
      ]
     },
     "execution_count": 4,
     "metadata": {},
     "output_type": "execute_result"
    }
   ],
   "source": [
    "boston_reviews_comments = 31150/(37072+31150)\n",
    "boston_reviews_comments"
   ]
  },
  {
   "cell_type": "code",
   "execution_count": null,
   "metadata": {},
   "outputs": [],
   "source": [
    "boston_reviews  = pd.read_csv('boston/reviews.csv')"
   ]
  },
  {
   "cell_type": "code",
   "execution_count": 101,
   "metadata": {},
   "outputs": [
    {
     "data": {
      "text/html": [
       "<div>\n",
       "<style scoped>\n",
       "    .dataframe tbody tr th:only-of-type {\n",
       "        vertical-align: middle;\n",
       "    }\n",
       "\n",
       "    .dataframe tbody tr th {\n",
       "        vertical-align: top;\n",
       "    }\n",
       "\n",
       "    .dataframe thead th {\n",
       "        text-align: right;\n",
       "    }\n",
       "</style>\n",
       "<table border=\"1\" class=\"dataframe\">\n",
       "  <thead>\n",
       "    <tr style=\"text-align: right;\">\n",
       "      <th></th>\n",
       "      <th>listing_id</th>\n",
       "      <th>id</th>\n",
       "      <th>date</th>\n",
       "      <th>reviewer_id</th>\n",
       "      <th>reviewer_name</th>\n",
       "      <th>comments</th>\n",
       "    </tr>\n",
       "  </thead>\n",
       "  <tbody>\n",
       "    <tr>\n",
       "      <th>0</th>\n",
       "      <td>1178162</td>\n",
       "      <td>4724140</td>\n",
       "      <td>2013-05-21</td>\n",
       "      <td>4298113</td>\n",
       "      <td>Olivier</td>\n",
       "      <td>My stay at islam's place was really cool! Good...</td>\n",
       "    </tr>\n",
       "    <tr>\n",
       "      <th>1</th>\n",
       "      <td>1178162</td>\n",
       "      <td>4869189</td>\n",
       "      <td>2013-05-29</td>\n",
       "      <td>6452964</td>\n",
       "      <td>Charlotte</td>\n",
       "      <td>Great location for both airport and city - gre...</td>\n",
       "    </tr>\n",
       "    <tr>\n",
       "      <th>2</th>\n",
       "      <td>1178162</td>\n",
       "      <td>5003196</td>\n",
       "      <td>2013-06-06</td>\n",
       "      <td>6449554</td>\n",
       "      <td>Sebastian</td>\n",
       "      <td>We really enjoyed our stay at Islams house. Fr...</td>\n",
       "    </tr>\n",
       "    <tr>\n",
       "      <th>3</th>\n",
       "      <td>1178162</td>\n",
       "      <td>5150351</td>\n",
       "      <td>2013-06-15</td>\n",
       "      <td>2215611</td>\n",
       "      <td>Marine</td>\n",
       "      <td>The room was nice and clean and so were the co...</td>\n",
       "    </tr>\n",
       "    <tr>\n",
       "      <th>4</th>\n",
       "      <td>1178162</td>\n",
       "      <td>5171140</td>\n",
       "      <td>2013-06-16</td>\n",
       "      <td>6848427</td>\n",
       "      <td>Andrew</td>\n",
       "      <td>Great location. Just 5 mins walk from the Airp...</td>\n",
       "    </tr>\n",
       "  </tbody>\n",
       "</table>\n",
       "</div>"
      ],
      "text/plain": [
       "   listing_id       id        date  reviewer_id reviewer_name  \\\n",
       "0     1178162  4724140  2013-05-21      4298113       Olivier   \n",
       "1     1178162  4869189  2013-05-29      6452964     Charlotte   \n",
       "2     1178162  5003196  2013-06-06      6449554     Sebastian   \n",
       "3     1178162  5150351  2013-06-15      2215611        Marine   \n",
       "4     1178162  5171140  2013-06-16      6848427        Andrew   \n",
       "\n",
       "                                            comments  \n",
       "0  My stay at islam's place was really cool! Good...  \n",
       "1  Great location for both airport and city - gre...  \n",
       "2  We really enjoyed our stay at Islams house. Fr...  \n",
       "3  The room was nice and clean and so were the co...  \n",
       "4  Great location. Just 5 mins walk from the Airp...  "
      ]
     },
     "execution_count": 101,
     "metadata": {},
     "output_type": "execute_result"
    }
   ],
   "source": [
    "boston_reviews.head()"
   ]
  },
  {
   "cell_type": "code",
   "execution_count": null,
   "metadata": {},
   "outputs": [],
   "source": [
    "seattle_reviews = pd.read_csv('seattle/reviews.csv')"
   ]
  },
  {
   "cell_type": "code",
   "execution_count": 100,
   "metadata": {},
   "outputs": [
    {
     "data": {
      "text/html": [
       "<div>\n",
       "<style scoped>\n",
       "    .dataframe tbody tr th:only-of-type {\n",
       "        vertical-align: middle;\n",
       "    }\n",
       "\n",
       "    .dataframe tbody tr th {\n",
       "        vertical-align: top;\n",
       "    }\n",
       "\n",
       "    .dataframe thead th {\n",
       "        text-align: right;\n",
       "    }\n",
       "</style>\n",
       "<table border=\"1\" class=\"dataframe\">\n",
       "  <thead>\n",
       "    <tr style=\"text-align: right;\">\n",
       "      <th></th>\n",
       "      <th>listing_id</th>\n",
       "      <th>id</th>\n",
       "      <th>date</th>\n",
       "      <th>reviewer_id</th>\n",
       "      <th>reviewer_name</th>\n",
       "      <th>comments</th>\n",
       "    </tr>\n",
       "  </thead>\n",
       "  <tbody>\n",
       "    <tr>\n",
       "      <th>0</th>\n",
       "      <td>7202016</td>\n",
       "      <td>38917982</td>\n",
       "      <td>2015-07-19</td>\n",
       "      <td>28943674</td>\n",
       "      <td>Bianca</td>\n",
       "      <td>Cute and cozy place. Perfect location to every...</td>\n",
       "    </tr>\n",
       "    <tr>\n",
       "      <th>1</th>\n",
       "      <td>7202016</td>\n",
       "      <td>39087409</td>\n",
       "      <td>2015-07-20</td>\n",
       "      <td>32440555</td>\n",
       "      <td>Frank</td>\n",
       "      <td>Kelly has a great room in a very central locat...</td>\n",
       "    </tr>\n",
       "    <tr>\n",
       "      <th>2</th>\n",
       "      <td>7202016</td>\n",
       "      <td>39820030</td>\n",
       "      <td>2015-07-26</td>\n",
       "      <td>37722850</td>\n",
       "      <td>Ian</td>\n",
       "      <td>Very spacious apartment, and in a great neighb...</td>\n",
       "    </tr>\n",
       "    <tr>\n",
       "      <th>3</th>\n",
       "      <td>7202016</td>\n",
       "      <td>40813543</td>\n",
       "      <td>2015-08-02</td>\n",
       "      <td>33671805</td>\n",
       "      <td>George</td>\n",
       "      <td>Close to Seattle Center and all it has to offe...</td>\n",
       "    </tr>\n",
       "    <tr>\n",
       "      <th>4</th>\n",
       "      <td>7202016</td>\n",
       "      <td>41986501</td>\n",
       "      <td>2015-08-10</td>\n",
       "      <td>34959538</td>\n",
       "      <td>Ming</td>\n",
       "      <td>Kelly was a great host and very accommodating ...</td>\n",
       "    </tr>\n",
       "  </tbody>\n",
       "</table>\n",
       "</div>"
      ],
      "text/plain": [
       "   listing_id        id        date  reviewer_id reviewer_name  \\\n",
       "0     7202016  38917982  2015-07-19     28943674        Bianca   \n",
       "1     7202016  39087409  2015-07-20     32440555         Frank   \n",
       "2     7202016  39820030  2015-07-26     37722850           Ian   \n",
       "3     7202016  40813543  2015-08-02     33671805        George   \n",
       "4     7202016  41986501  2015-08-10     34959538          Ming   \n",
       "\n",
       "                                            comments  \n",
       "0  Cute and cozy place. Perfect location to every...  \n",
       "1  Kelly has a great room in a very central locat...  \n",
       "2  Very spacious apartment, and in a great neighb...  \n",
       "3  Close to Seattle Center and all it has to offe...  \n",
       "4  Kelly was a great host and very accommodating ...  "
      ]
     },
     "execution_count": 100,
     "metadata": {},
     "output_type": "execute_result"
    }
   ],
   "source": [
    "seattle_reviews.head()"
   ]
  },
  {
   "cell_type": "code",
   "execution_count": null,
   "metadata": {},
   "outputs": [],
   "source": [
    "seattle_listings = pd.read_csv('seattle/listings.csv')"
   ]
  },
  {
   "cell_type": "code",
   "execution_count": 98,
   "metadata": {},
   "outputs": [
    {
     "data": {
      "text/html": [
       "<div>\n",
       "<style scoped>\n",
       "    .dataframe tbody tr th:only-of-type {\n",
       "        vertical-align: middle;\n",
       "    }\n",
       "\n",
       "    .dataframe tbody tr th {\n",
       "        vertical-align: top;\n",
       "    }\n",
       "\n",
       "    .dataframe thead th {\n",
       "        text-align: right;\n",
       "    }\n",
       "</style>\n",
       "<table border=\"1\" class=\"dataframe\">\n",
       "  <thead>\n",
       "    <tr style=\"text-align: right;\">\n",
       "      <th></th>\n",
       "      <th>id</th>\n",
       "      <th>listing_url</th>\n",
       "      <th>scrape_id</th>\n",
       "      <th>last_scraped</th>\n",
       "      <th>name</th>\n",
       "      <th>summary</th>\n",
       "      <th>space</th>\n",
       "      <th>description</th>\n",
       "      <th>experiences_offered</th>\n",
       "      <th>neighborhood_overview</th>\n",
       "      <th>...</th>\n",
       "      <th>review_scores_value</th>\n",
       "      <th>requires_license</th>\n",
       "      <th>license</th>\n",
       "      <th>jurisdiction_names</th>\n",
       "      <th>instant_bookable</th>\n",
       "      <th>cancellation_policy</th>\n",
       "      <th>require_guest_profile_picture</th>\n",
       "      <th>require_guest_phone_verification</th>\n",
       "      <th>calculated_host_listings_count</th>\n",
       "      <th>reviews_per_month</th>\n",
       "    </tr>\n",
       "  </thead>\n",
       "  <tbody>\n",
       "    <tr>\n",
       "      <th>0</th>\n",
       "      <td>241032</td>\n",
       "      <td>https://www.airbnb.com/rooms/241032</td>\n",
       "      <td>20160104002432</td>\n",
       "      <td>2016-01-04</td>\n",
       "      <td>Stylish Queen Anne Apartment</td>\n",
       "      <td>NaN</td>\n",
       "      <td>Make your self at home in this charming one-be...</td>\n",
       "      <td>Make your self at home in this charming one-be...</td>\n",
       "      <td>none</td>\n",
       "      <td>NaN</td>\n",
       "      <td>...</td>\n",
       "      <td>10.0</td>\n",
       "      <td>f</td>\n",
       "      <td>NaN</td>\n",
       "      <td>WASHINGTON</td>\n",
       "      <td>f</td>\n",
       "      <td>moderate</td>\n",
       "      <td>f</td>\n",
       "      <td>f</td>\n",
       "      <td>2</td>\n",
       "      <td>4.07</td>\n",
       "    </tr>\n",
       "    <tr>\n",
       "      <th>1</th>\n",
       "      <td>953595</td>\n",
       "      <td>https://www.airbnb.com/rooms/953595</td>\n",
       "      <td>20160104002432</td>\n",
       "      <td>2016-01-04</td>\n",
       "      <td>Bright &amp; Airy Queen Anne Apartment</td>\n",
       "      <td>Chemically sensitive? We've removed the irrita...</td>\n",
       "      <td>Beautiful, hypoallergenic apartment in an extr...</td>\n",
       "      <td>Chemically sensitive? We've removed the irrita...</td>\n",
       "      <td>none</td>\n",
       "      <td>Queen Anne is a wonderful, truly functional vi...</td>\n",
       "      <td>...</td>\n",
       "      <td>10.0</td>\n",
       "      <td>f</td>\n",
       "      <td>NaN</td>\n",
       "      <td>WASHINGTON</td>\n",
       "      <td>f</td>\n",
       "      <td>strict</td>\n",
       "      <td>t</td>\n",
       "      <td>t</td>\n",
       "      <td>6</td>\n",
       "      <td>1.48</td>\n",
       "    </tr>\n",
       "    <tr>\n",
       "      <th>2</th>\n",
       "      <td>3308979</td>\n",
       "      <td>https://www.airbnb.com/rooms/3308979</td>\n",
       "      <td>20160104002432</td>\n",
       "      <td>2016-01-04</td>\n",
       "      <td>New Modern House-Amazing water view</td>\n",
       "      <td>New modern house built in 2013.  Spectacular s...</td>\n",
       "      <td>Our house is modern, light and fresh with a wa...</td>\n",
       "      <td>New modern house built in 2013.  Spectacular s...</td>\n",
       "      <td>none</td>\n",
       "      <td>Upper Queen Anne is a charming neighborhood fu...</td>\n",
       "      <td>...</td>\n",
       "      <td>10.0</td>\n",
       "      <td>f</td>\n",
       "      <td>NaN</td>\n",
       "      <td>WASHINGTON</td>\n",
       "      <td>f</td>\n",
       "      <td>strict</td>\n",
       "      <td>f</td>\n",
       "      <td>f</td>\n",
       "      <td>2</td>\n",
       "      <td>1.15</td>\n",
       "    </tr>\n",
       "    <tr>\n",
       "      <th>3</th>\n",
       "      <td>7421966</td>\n",
       "      <td>https://www.airbnb.com/rooms/7421966</td>\n",
       "      <td>20160104002432</td>\n",
       "      <td>2016-01-04</td>\n",
       "      <td>Queen Anne Chateau</td>\n",
       "      <td>A charming apartment that sits atop Queen Anne...</td>\n",
       "      <td>NaN</td>\n",
       "      <td>A charming apartment that sits atop Queen Anne...</td>\n",
       "      <td>none</td>\n",
       "      <td>NaN</td>\n",
       "      <td>...</td>\n",
       "      <td>NaN</td>\n",
       "      <td>f</td>\n",
       "      <td>NaN</td>\n",
       "      <td>WASHINGTON</td>\n",
       "      <td>f</td>\n",
       "      <td>flexible</td>\n",
       "      <td>f</td>\n",
       "      <td>f</td>\n",
       "      <td>1</td>\n",
       "      <td>NaN</td>\n",
       "    </tr>\n",
       "    <tr>\n",
       "      <th>4</th>\n",
       "      <td>278830</td>\n",
       "      <td>https://www.airbnb.com/rooms/278830</td>\n",
       "      <td>20160104002432</td>\n",
       "      <td>2016-01-04</td>\n",
       "      <td>Charming craftsman 3 bdm house</td>\n",
       "      <td>Cozy family craftman house in beautiful neighb...</td>\n",
       "      <td>Cozy family craftman house in beautiful neighb...</td>\n",
       "      <td>Cozy family craftman house in beautiful neighb...</td>\n",
       "      <td>none</td>\n",
       "      <td>We are in the beautiful neighborhood of Queen ...</td>\n",
       "      <td>...</td>\n",
       "      <td>9.0</td>\n",
       "      <td>f</td>\n",
       "      <td>NaN</td>\n",
       "      <td>WASHINGTON</td>\n",
       "      <td>f</td>\n",
       "      <td>strict</td>\n",
       "      <td>f</td>\n",
       "      <td>f</td>\n",
       "      <td>1</td>\n",
       "      <td>0.89</td>\n",
       "    </tr>\n",
       "  </tbody>\n",
       "</table>\n",
       "<p>5 rows × 92 columns</p>\n",
       "</div>"
      ],
      "text/plain": [
       "        id                           listing_url       scrape_id last_scraped  \\\n",
       "0   241032   https://www.airbnb.com/rooms/241032  20160104002432   2016-01-04   \n",
       "1   953595   https://www.airbnb.com/rooms/953595  20160104002432   2016-01-04   \n",
       "2  3308979  https://www.airbnb.com/rooms/3308979  20160104002432   2016-01-04   \n",
       "3  7421966  https://www.airbnb.com/rooms/7421966  20160104002432   2016-01-04   \n",
       "4   278830   https://www.airbnb.com/rooms/278830  20160104002432   2016-01-04   \n",
       "\n",
       "                                  name  \\\n",
       "0         Stylish Queen Anne Apartment   \n",
       "1   Bright & Airy Queen Anne Apartment   \n",
       "2  New Modern House-Amazing water view   \n",
       "3                   Queen Anne Chateau   \n",
       "4       Charming craftsman 3 bdm house   \n",
       "\n",
       "                                             summary  \\\n",
       "0                                                NaN   \n",
       "1  Chemically sensitive? We've removed the irrita...   \n",
       "2  New modern house built in 2013.  Spectacular s...   \n",
       "3  A charming apartment that sits atop Queen Anne...   \n",
       "4  Cozy family craftman house in beautiful neighb...   \n",
       "\n",
       "                                               space  \\\n",
       "0  Make your self at home in this charming one-be...   \n",
       "1  Beautiful, hypoallergenic apartment in an extr...   \n",
       "2  Our house is modern, light and fresh with a wa...   \n",
       "3                                                NaN   \n",
       "4  Cozy family craftman house in beautiful neighb...   \n",
       "\n",
       "                                         description experiences_offered  \\\n",
       "0  Make your self at home in this charming one-be...                none   \n",
       "1  Chemically sensitive? We've removed the irrita...                none   \n",
       "2  New modern house built in 2013.  Spectacular s...                none   \n",
       "3  A charming apartment that sits atop Queen Anne...                none   \n",
       "4  Cozy family craftman house in beautiful neighb...                none   \n",
       "\n",
       "                               neighborhood_overview  ... review_scores_value  \\\n",
       "0                                                NaN  ...                10.0   \n",
       "1  Queen Anne is a wonderful, truly functional vi...  ...                10.0   \n",
       "2  Upper Queen Anne is a charming neighborhood fu...  ...                10.0   \n",
       "3                                                NaN  ...                 NaN   \n",
       "4  We are in the beautiful neighborhood of Queen ...  ...                 9.0   \n",
       "\n",
       "  requires_license license jurisdiction_names instant_bookable  \\\n",
       "0                f     NaN         WASHINGTON                f   \n",
       "1                f     NaN         WASHINGTON                f   \n",
       "2                f     NaN         WASHINGTON                f   \n",
       "3                f     NaN         WASHINGTON                f   \n",
       "4                f     NaN         WASHINGTON                f   \n",
       "\n",
       "  cancellation_policy  require_guest_profile_picture  \\\n",
       "0            moderate                              f   \n",
       "1              strict                              t   \n",
       "2              strict                              f   \n",
       "3            flexible                              f   \n",
       "4              strict                              f   \n",
       "\n",
       "  require_guest_phone_verification calculated_host_listings_count  \\\n",
       "0                                f                              2   \n",
       "1                                t                              6   \n",
       "2                                f                              2   \n",
       "3                                f                              1   \n",
       "4                                f                              1   \n",
       "\n",
       "  reviews_per_month  \n",
       "0              4.07  \n",
       "1              1.48  \n",
       "2              1.15  \n",
       "3               NaN  \n",
       "4              0.89  \n",
       "\n",
       "[5 rows x 92 columns]"
      ]
     },
     "execution_count": 98,
     "metadata": {},
     "output_type": "execute_result"
    }
   ],
   "source": [
    "seattle_listings.head()"
   ]
  },
  {
   "cell_type": "code",
   "execution_count": null,
   "metadata": {},
   "outputs": [],
   "source": [
    "seattle_calendar = pd.read_csv('seattle/calendar.csv')"
   ]
  },
  {
   "cell_type": "code",
   "execution_count": 99,
   "metadata": {},
   "outputs": [
    {
     "data": {
      "text/html": [
       "<div>\n",
       "<style scoped>\n",
       "    .dataframe tbody tr th:only-of-type {\n",
       "        vertical-align: middle;\n",
       "    }\n",
       "\n",
       "    .dataframe tbody tr th {\n",
       "        vertical-align: top;\n",
       "    }\n",
       "\n",
       "    .dataframe thead th {\n",
       "        text-align: right;\n",
       "    }\n",
       "</style>\n",
       "<table border=\"1\" class=\"dataframe\">\n",
       "  <thead>\n",
       "    <tr style=\"text-align: right;\">\n",
       "      <th></th>\n",
       "      <th>listing_id</th>\n",
       "      <th>date</th>\n",
       "      <th>available</th>\n",
       "      <th>price</th>\n",
       "    </tr>\n",
       "  </thead>\n",
       "  <tbody>\n",
       "    <tr>\n",
       "      <th>0</th>\n",
       "      <td>241032</td>\n",
       "      <td>2016-01-04</td>\n",
       "      <td>t</td>\n",
       "      <td>$85.00</td>\n",
       "    </tr>\n",
       "    <tr>\n",
       "      <th>1</th>\n",
       "      <td>241032</td>\n",
       "      <td>2016-01-05</td>\n",
       "      <td>t</td>\n",
       "      <td>$85.00</td>\n",
       "    </tr>\n",
       "    <tr>\n",
       "      <th>2</th>\n",
       "      <td>241032</td>\n",
       "      <td>2016-01-06</td>\n",
       "      <td>f</td>\n",
       "      <td>NaN</td>\n",
       "    </tr>\n",
       "    <tr>\n",
       "      <th>3</th>\n",
       "      <td>241032</td>\n",
       "      <td>2016-01-07</td>\n",
       "      <td>f</td>\n",
       "      <td>NaN</td>\n",
       "    </tr>\n",
       "    <tr>\n",
       "      <th>4</th>\n",
       "      <td>241032</td>\n",
       "      <td>2016-01-08</td>\n",
       "      <td>f</td>\n",
       "      <td>NaN</td>\n",
       "    </tr>\n",
       "  </tbody>\n",
       "</table>\n",
       "</div>"
      ],
      "text/plain": [
       "   listing_id        date available   price\n",
       "0      241032  2016-01-04         t  $85.00\n",
       "1      241032  2016-01-05         t  $85.00\n",
       "2      241032  2016-01-06         f     NaN\n",
       "3      241032  2016-01-07         f     NaN\n",
       "4      241032  2016-01-08         f     NaN"
      ]
     },
     "execution_count": 99,
     "metadata": {},
     "output_type": "execute_result"
    }
   ],
   "source": [
    "seattle_calendar.head()"
   ]
  },
  {
   "cell_type": "code",
   "execution_count": 97,
   "metadata": {},
   "outputs": [
    {
     "data": {
      "text/plain": [
       "t    934542\n",
       "f    459028\n",
       "Name: available, dtype: int64"
      ]
     },
     "execution_count": 97,
     "metadata": {},
     "output_type": "execute_result"
    }
   ],
   "source": [
    "seattle_calendar['available'].value_counts()"
   ]
  },
  {
   "cell_type": "code",
   "execution_count": 102,
   "metadata": {},
   "outputs": [],
   "source": [
    "#how to find the percentage of true vs false for available column in seattle_calendar\n",
    "seattle_calendar_available = 934542/1393570"
   ]
  },
  {
   "cell_type": "code",
   "execution_count": 103,
   "metadata": {},
   "outputs": [
    {
     "data": {
      "text/plain": [
       "0.6706100160020666"
      ]
     },
     "execution_count": 103,
     "metadata": {},
     "output_type": "execute_result"
    }
   ],
   "source": [
    "seattle_calendar_available"
   ]
  },
  {
   "cell_type": "code",
   "execution_count": 104,
   "metadata": {},
   "outputs": [],
   "source": [
    "boston_calendar = pd.read_csv('boston/calendar.csv')"
   ]
  },
  {
   "cell_type": "code",
   "execution_count": 105,
   "metadata": {},
   "outputs": [
    {
     "data": {
      "text/plain": [
       "f    665853\n",
       "t    643037\n",
       "Name: available, dtype: int64"
      ]
     },
     "execution_count": 105,
     "metadata": {},
     "output_type": "execute_result"
    }
   ],
   "source": [
    "boston_calendar['available'].value_counts()"
   ]
  },
  {
   "cell_type": "code",
   "execution_count": 106,
   "metadata": {},
   "outputs": [],
   "source": [
    "#how to find the percentage of true vs false for available column in boston_calendar\n",
    "boston_calendar_available = 643037/1308890\n"
   ]
  },
  {
   "cell_type": "code",
   "execution_count": 107,
   "metadata": {},
   "outputs": [
    {
     "data": {
      "text/plain": [
       "0.4912842179251121"
      ]
     },
     "execution_count": 107,
     "metadata": {},
     "output_type": "execute_result"
    }
   ],
   "source": [
    "boston_calendar_available"
   ]
  },
  {
   "cell_type": "code",
   "execution_count": 108,
   "metadata": {},
   "outputs": [],
   "source": [
    "#how to plot a box plot between boston and seattle prices\n",
    "import matplotlib.pyplot as plt\n",
    "import seaborn as sns"
   ]
  },
  {
   "cell_type": "code",
   "execution_count": 114,
   "metadata": {},
   "outputs": [
    {
     "data": {
      "text/plain": [
       "0           Boston\n",
       "1           Boston\n",
       "2           Boston\n",
       "3           Boston\n",
       "4           Boston\n",
       "           ...    \n",
       "3580    Somerville\n",
       "3581     Brookline\n",
       "3582     Cambridge\n",
       "3583    Somerville\n",
       "3584    Somerville\n",
       "Name: city, Length: 3585, dtype: object"
      ]
     },
     "execution_count": 114,
     "metadata": {},
     "output_type": "execute_result"
    }
   ],
   "source": [
    "boston_listings.city"
   ]
  },
  {
   "cell_type": "code",
   "execution_count": 115,
   "metadata": {},
   "outputs": [],
   "source": [
    "#how to replace entire column with a value for city in boston_listings\n",
    "boston_listings['city'] = 'Boston'"
   ]
  },
  {
   "cell_type": "code",
   "execution_count": 123,
   "metadata": {},
   "outputs": [
    {
     "data": {
      "text/plain": [
       "0        85.0\n",
       "1       150.0\n",
       "2       975.0\n",
       "3       100.0\n",
       "4       450.0\n",
       "        ...  \n",
       "3813    359.0\n",
       "3814     79.0\n",
       "3815     93.0\n",
       "3816     99.0\n",
       "3817     87.0\n",
       "Name: price, Length: 3818, dtype: float64"
      ]
     },
     "execution_count": 123,
     "metadata": {},
     "output_type": "execute_result"
    }
   ],
   "source": [
    "seattle_listings['price']"
   ]
  },
  {
   "cell_type": "code",
   "execution_count": 117,
   "metadata": {},
   "outputs": [],
   "source": [
    "seattle_listings['city'] = 'Seattle'"
   ]
  },
  {
   "cell_type": "code",
   "execution_count": 158,
   "metadata": {},
   "outputs": [
    {
     "data": {
      "text/plain": [
       "array(['id', 'scrape_id', 'host_id', 'host_about', 'host_listings_count',\n",
       "       'host_total_listings_count', 'zipcode', 'latitude', 'longitude',\n",
       "       'accommodates', 'bathrooms', 'bedrooms', 'beds', 'square_feet',\n",
       "       'price', 'guests_included', 'minimum_nights', 'maximum_nights',\n",
       "       'availability_30', 'availability_60', 'availability_90',\n",
       "       'availability_365', 'number_of_reviews', 'review_scores_rating',\n",
       "       'review_scores_accuracy', 'review_scores_cleanliness',\n",
       "       'review_scores_checkin', 'review_scores_communication',\n",
       "       'review_scores_location', 'review_scores_value',\n",
       "       'calculated_host_listings_count', 'reviews_per_month'],\n",
       "      dtype=object)"
      ]
     },
     "execution_count": 158,
     "metadata": {},
     "output_type": "execute_result"
    }
   ],
   "source": [
    "#unique values in a certain column\n",
    "mdf['price'].unique()"
   ]
  },
  {
   "cell_type": "code",
   "execution_count": 166,
   "metadata": {},
   "outputs": [],
   "source": [
    "df_combine_prices = pd.concat([boston_listings.price.rename(\"boston\"),seattle_listings.price.rename(\"seattle\")], axis=1)\n"
   ]
  },
  {
   "cell_type": "code",
   "execution_count": 167,
   "metadata": {},
   "outputs": [
    {
     "data": {
      "text/html": [
       "<div>\n",
       "<style scoped>\n",
       "    .dataframe tbody tr th:only-of-type {\n",
       "        vertical-align: middle;\n",
       "    }\n",
       "\n",
       "    .dataframe tbody tr th {\n",
       "        vertical-align: top;\n",
       "    }\n",
       "\n",
       "    .dataframe thead th {\n",
       "        text-align: right;\n",
       "    }\n",
       "</style>\n",
       "<table border=\"1\" class=\"dataframe\">\n",
       "  <thead>\n",
       "    <tr style=\"text-align: right;\">\n",
       "      <th></th>\n",
       "      <th>boston</th>\n",
       "      <th>seattle</th>\n",
       "    </tr>\n",
       "  </thead>\n",
       "  <tbody>\n",
       "    <tr>\n",
       "      <th>0</th>\n",
       "      <td>250.0</td>\n",
       "      <td>85.0</td>\n",
       "    </tr>\n",
       "    <tr>\n",
       "      <th>1</th>\n",
       "      <td>65.0</td>\n",
       "      <td>150.0</td>\n",
       "    </tr>\n",
       "    <tr>\n",
       "      <th>2</th>\n",
       "      <td>65.0</td>\n",
       "      <td>975.0</td>\n",
       "    </tr>\n",
       "    <tr>\n",
       "      <th>3</th>\n",
       "      <td>75.0</td>\n",
       "      <td>100.0</td>\n",
       "    </tr>\n",
       "    <tr>\n",
       "      <th>4</th>\n",
       "      <td>79.0</td>\n",
       "      <td>450.0</td>\n",
       "    </tr>\n",
       "    <tr>\n",
       "      <th>...</th>\n",
       "      <td>...</td>\n",
       "      <td>...</td>\n",
       "    </tr>\n",
       "    <tr>\n",
       "      <th>3813</th>\n",
       "      <td>NaN</td>\n",
       "      <td>359.0</td>\n",
       "    </tr>\n",
       "    <tr>\n",
       "      <th>3814</th>\n",
       "      <td>NaN</td>\n",
       "      <td>79.0</td>\n",
       "    </tr>\n",
       "    <tr>\n",
       "      <th>3815</th>\n",
       "      <td>NaN</td>\n",
       "      <td>93.0</td>\n",
       "    </tr>\n",
       "    <tr>\n",
       "      <th>3816</th>\n",
       "      <td>NaN</td>\n",
       "      <td>99.0</td>\n",
       "    </tr>\n",
       "    <tr>\n",
       "      <th>3817</th>\n",
       "      <td>NaN</td>\n",
       "      <td>87.0</td>\n",
       "    </tr>\n",
       "  </tbody>\n",
       "</table>\n",
       "<p>3818 rows × 2 columns</p>\n",
       "</div>"
      ],
      "text/plain": [
       "      boston  seattle\n",
       "0      250.0     85.0\n",
       "1       65.0    150.0\n",
       "2       65.0    975.0\n",
       "3       75.0    100.0\n",
       "4       79.0    450.0\n",
       "...      ...      ...\n",
       "3813     NaN    359.0\n",
       "3814     NaN     79.0\n",
       "3815     NaN     93.0\n",
       "3816     NaN     99.0\n",
       "3817     NaN     87.0\n",
       "\n",
       "[3818 rows x 2 columns]"
      ]
     },
     "execution_count": 167,
     "metadata": {},
     "output_type": "execute_result"
    }
   ],
   "source": [
    "df_combine_prices"
   ]
  },
  {
   "cell_type": "code",
   "execution_count": 168,
   "metadata": {},
   "outputs": [
    {
     "data": {
      "text/plain": [
       "<AxesSubplot:title={'center':'Seattle vs Boston Airbnb'}, xlabel='City', ylabel='Price in $'>"
      ]
     },
     "execution_count": 168,
     "metadata": {},
     "output_type": "execute_result"
    },
    {
     "data": {
      "image/png": "[encoded data removed]",
      "text/plain": [
       "<Figure size 640x480 with 1 Axes>"
      ]
     },
     "metadata": {},
     "output_type": "display_data"
    }
   ],
   "source": [
    "plt.ylim(0,700)\n",
    "plt.title('Seattle vs Boston Airbnb')\n",
    "plt.ylabel('Price in $')\n",
    "plt.xlabel('City')\n",
    "df_combine_prices.boxplot()"
   ]
  },
  {
   "cell_type": "code",
   "execution_count": 153,
   "metadata": {},
   "outputs": [
    {
     "data": {
      "text/plain": [
       "<AxesSubplot:>"
      ]
     },
     "execution_count": 153,
     "metadata": {},
     "output_type": "execute_result"
    },
    {
     "data": {
      "image/png": "[encoded data removed]",
      "text/plain": [
       "<Figure size 640x480 with 1 Axes>"
      ]
     },
     "metadata": {},
     "output_type": "display_data"
    }
   ],
   "source": [
    "boston_listings['price'].plot(kind='box')"
   ]
  },
  {
   "cell_type": "code",
   "execution_count": 154,
   "metadata": {},
   "outputs": [
    {
     "data": {
      "text/plain": [
       "<AxesSubplot:>"
      ]
     },
     "execution_count": 154,
     "metadata": {},
     "output_type": "execute_result"
    },
    {
     "data": {
      "image/png": "[encoded data removed]",
      "text/plain": [
       "<Figure size 640x480 with 1 Axes>"
      ]
     },
     "metadata": {},
     "output_type": "display_data"
    }
   ],
   "source": [
    "seattle_listings['price'].plot(kind='box')"
   ]
  },
  {
   "cell_type": "code",
   "execution_count": 147,
   "metadata": {},
   "outputs": [],
   "source": [
    "#remove missing values for mdf['value']\n",
    "mdf = mdf.dropna(subset=['value'])"
   ]
  },
  {
   "cell_type": "code",
   "execution_count": null,
   "metadata": {},
   "outputs": [
    {
     "name": "stdout",
     "output_type": "stream",
     "text": [
      "   neighbourhood_group             neighbourhood\n",
      "0                  NaN             Coconut Creek\n",
      "1                  NaN               Cooper City\n",
      "2                  NaN             Coral Springs\n",
      "3                  NaN  County Regional Facility\n",
      "4                  NaN               Dania Beach\n"
     ]
    }
   ],
   "source": [
    "df2 = pd.read_csv('neighbourhoods.csv')\n",
    "print(df2.head())"
   ]
  },
  {
   "cell_type": "code",
   "execution_count": null,
   "metadata": {},
   "outputs": [
    {
     "name": "stdout",
     "output_type": "stream",
     "text": [
      "Index(['neighbourhood_group', 'neighbourhood'], dtype='object')\n"
     ]
    }
   ],
   "source": [
    "#print columns of df2\n",
    "print(df2.columns)"
   ]
  },
  {
   "cell_type": "code",
   "execution_count": null,
   "metadata": {},
   "outputs": [
    {
     "name": "stdout",
     "output_type": "stream",
     "text": [
      "       id                                 name  host_id  \\\n",
      "0   83449        MARY POP APTS 2/1 APT SLEEP 5   454736   \n",
      "1   69824            2 bd/2ba Oceanfront Condo   351303   \n",
      "2  191160   Tropical Beach Paradise Awaits You   924482   \n",
      "3  129099  MIAMI - AMAZING APARTMENT OCEANVIEW   637272   \n",
      "4  129061  MIAMI - LUXURY APARTMENT OVER BEACH   637272   \n",
      "\n",
      "                   host_name  neighbourhood_group     neighbourhood  latitude  \\\n",
      "0  Jon,  Mary Pop Apartments                  NaN       Dania Beach  26.03392   \n",
      "1                      Tracy                  NaN  Hallandale Beach  25.97641   \n",
      "2                        Dan                  NaN   Deerfield Beach  26.30707   \n",
      "3                     Bianca                  NaN         Hollywood  25.99416   \n",
      "4                     Bianca                  NaN         Hollywood  25.99332   \n",
      "\n",
      "   longitude        room_type  price  minimum_nights  number_of_reviews  \\\n",
      "0  -80.14201  Entire home/apt     99               7                 23   \n",
      "1  -80.12052  Entire home/apt    150              30                  3   \n",
      "2  -80.07793  Entire home/apt    119               2                 25   \n",
      "3  -80.11969  Entire home/apt    225              28                 27   \n",
      "4  -80.11887  Entire home/apt    261              28                 21   \n",
      "\n",
      "  last_review  reviews_per_month  calculated_host_listings_count  \\\n",
      "0  2022-12-08               0.17                               8   \n",
      "1  2022-08-15               0.05                               2   \n",
      "2  2019-11-08               0.19                               1   \n",
      "3  2022-07-01               0.20                               6   \n",
      "4  2022-03-27               0.15                               6   \n",
      "\n",
      "   availability_365  number_of_reviews_ltm  license  \n",
      "0                 0                      3      NaN  \n",
      "1               276                      1      NaN  \n",
      "2                87                      0      NaN  \n",
      "3               338                      2      NaN  \n",
      "4               336                      2      NaN  \n"
     ]
    }
   ],
   "source": [
    "df3 = pd.read_csv('listings.csv')\n",
    "print(df3.head())"
   ]
  },
  {
   "cell_type": "code",
   "execution_count": null,
   "metadata": {},
   "outputs": [
    {
     "data": {
      "text/plain": [
       "Index(['listing_id', 'id', 'date', 'reviewer_id', 'reviewer_name', 'comments'], dtype='object')"
      ]
     },
     "execution_count": 72,
     "metadata": {},
     "output_type": "execute_result"
    }
   ],
   "source": [
    "df.columns"
   ]
  },
  {
   "cell_type": "code",
   "execution_count": null,
   "metadata": {},
   "outputs": [],
   "source": [
    "#how to merge data frames based on a common column between them\n",
    "df4 = pd.merge(df, df3, on='id')"
   ]
  },
  {
   "cell_type": "code",
   "execution_count": null,
   "metadata": {},
   "outputs": [
    {
     "data": {
      "text/html": [
       "<div>\n",
       "<style scoped>\n",
       "    .dataframe tbody tr th:only-of-type {\n",
       "        vertical-align: middle;\n",
       "    }\n",
       "\n",
       "    .dataframe tbody tr th {\n",
       "        vertical-align: top;\n",
       "    }\n",
       "\n",
       "    .dataframe thead th {\n",
       "        text-align: right;\n",
       "    }\n",
       "</style>\n",
       "<table border=\"1\" class=\"dataframe\">\n",
       "  <thead>\n",
       "    <tr style=\"text-align: right;\">\n",
       "      <th></th>\n",
       "      <th>listing_id</th>\n",
       "      <th>id</th>\n",
       "      <th>date</th>\n",
       "      <th>reviewer_id</th>\n",
       "      <th>reviewer_name</th>\n",
       "      <th>comments</th>\n",
       "      <th>name</th>\n",
       "      <th>host_id</th>\n",
       "      <th>host_name</th>\n",
       "      <th>neighbourhood_group</th>\n",
       "      <th>...</th>\n",
       "      <th>room_type</th>\n",
       "      <th>price</th>\n",
       "      <th>minimum_nights</th>\n",
       "      <th>number_of_reviews</th>\n",
       "      <th>last_review</th>\n",
       "      <th>reviews_per_month</th>\n",
       "      <th>calculated_host_listings_count</th>\n",
       "      <th>availability_365</th>\n",
       "      <th>number_of_reviews_ltm</th>\n",
       "      <th>license</th>\n",
       "    </tr>\n",
       "  </thead>\n",
       "  <tbody>\n",
       "    <tr>\n",
       "      <th>0</th>\n",
       "      <td>7249508</td>\n",
       "      <td>46024595</td>\n",
       "      <td>2015-09-07</td>\n",
       "      <td>27195451</td>\n",
       "      <td>Erika</td>\n",
       "      <td>Katrina met us when we arrived to make sure we...</td>\n",
       "      <td>Wonderful Home w/Pool really near to the beach!</td>\n",
       "      <td>371627540</td>\n",
       "      <td>Liubov</td>\n",
       "      <td>NaN</td>\n",
       "      <td>...</td>\n",
       "      <td>Entire home/apt</td>\n",
       "      <td>1065</td>\n",
       "      <td>3</td>\n",
       "      <td>30</td>\n",
       "      <td>2022-07-25</td>\n",
       "      <td>1.18</td>\n",
       "      <td>1</td>\n",
       "      <td>347</td>\n",
       "      <td>13</td>\n",
       "      <td>NaN</td>\n",
       "    </tr>\n",
       "    <tr>\n",
       "      <th>1</th>\n",
       "      <td>7335567</td>\n",
       "      <td>42746589</td>\n",
       "      <td>2015-08-15</td>\n",
       "      <td>1291355</td>\n",
       "      <td>Paul</td>\n",
       "      <td>I was in a bind looking for a last minute Airb...</td>\n",
       "      <td>Private Heated Pool w Outdoor Dining close to ...</td>\n",
       "      <td>14288619</td>\n",
       "      <td>Christina</td>\n",
       "      <td>NaN</td>\n",
       "      <td>...</td>\n",
       "      <td>Entire home/apt</td>\n",
       "      <td>311</td>\n",
       "      <td>4</td>\n",
       "      <td>63</td>\n",
       "      <td>2022-11-28</td>\n",
       "      <td>1.94</td>\n",
       "      <td>4</td>\n",
       "      <td>177</td>\n",
       "      <td>25</td>\n",
       "      <td>NaN</td>\n",
       "    </tr>\n",
       "    <tr>\n",
       "      <th>2</th>\n",
       "      <td>3206305</td>\n",
       "      <td>30214723</td>\n",
       "      <td>2015-04-19</td>\n",
       "      <td>27071145</td>\n",
       "      <td>Kevin</td>\n",
       "      <td>I cannot say enough good things about Dana an...</td>\n",
       "      <td>Hotel unit at oceanmanor direct oceanview</td>\n",
       "      <td>44018370</td>\n",
       "      <td>Samantha</td>\n",
       "      <td>NaN</td>\n",
       "      <td>...</td>\n",
       "      <td>Private room</td>\n",
       "      <td>172</td>\n",
       "      <td>1</td>\n",
       "      <td>21</td>\n",
       "      <td>2022-12-18</td>\n",
       "      <td>3.28</td>\n",
       "      <td>9</td>\n",
       "      <td>325</td>\n",
       "      <td>21</td>\n",
       "      <td>NaN</td>\n",
       "    </tr>\n",
       "    <tr>\n",
       "      <th>3</th>\n",
       "      <td>856550</td>\n",
       "      <td>5269765</td>\n",
       "      <td>2013-06-21</td>\n",
       "      <td>858695</td>\n",
       "      <td>Luke</td>\n",
       "      <td>Responsive communication. Well run and persona...</td>\n",
       "      <td>Lovely Fort Lauderdale 2BD/2BT with a heated p...</td>\n",
       "      <td>16908884</td>\n",
       "      <td>Martin</td>\n",
       "      <td>NaN</td>\n",
       "      <td>...</td>\n",
       "      <td>Entire home/apt</td>\n",
       "      <td>321</td>\n",
       "      <td>32</td>\n",
       "      <td>21</td>\n",
       "      <td>2022-07-24</td>\n",
       "      <td>0.22</td>\n",
       "      <td>1</td>\n",
       "      <td>83</td>\n",
       "      <td>1</td>\n",
       "      <td>NaN</td>\n",
       "    </tr>\n",
       "    <tr>\n",
       "      <th>4</th>\n",
       "      <td>7451624</td>\n",
       "      <td>53937319</td>\n",
       "      <td>2015-11-14</td>\n",
       "      <td>38254544</td>\n",
       "      <td>Rachel</td>\n",
       "      <td>This was my first Airbnb experience and it was...</td>\n",
       "      <td>Classy Home in Lighthouse Point 1 min from Marina</td>\n",
       "      <td>70563805</td>\n",
       "      <td>Hideaway Vacation Rentals</td>\n",
       "      <td>NaN</td>\n",
       "      <td>...</td>\n",
       "      <td>Entire home/apt</td>\n",
       "      <td>255</td>\n",
       "      <td>1</td>\n",
       "      <td>24</td>\n",
       "      <td>2022-12-15</td>\n",
       "      <td>2.16</td>\n",
       "      <td>17</td>\n",
       "      <td>314</td>\n",
       "      <td>24</td>\n",
       "      <td>NaN</td>\n",
       "    </tr>\n",
       "    <tr>\n",
       "      <th>5</th>\n",
       "      <td>769213</td>\n",
       "      <td>15902645</td>\n",
       "      <td>2014-07-18</td>\n",
       "      <td>2309276</td>\n",
       "      <td>Kaitlyn</td>\n",
       "      <td>Although we didn't get the chance to meet KT a...</td>\n",
       "      <td>Waterfront Estate Home in Las Olas Isles</td>\n",
       "      <td>102397728</td>\n",
       "      <td>Ruth</td>\n",
       "      <td>NaN</td>\n",
       "      <td>...</td>\n",
       "      <td>Private room</td>\n",
       "      <td>136</td>\n",
       "      <td>2</td>\n",
       "      <td>156</td>\n",
       "      <td>2022-12-17</td>\n",
       "      <td>2.12</td>\n",
       "      <td>2</td>\n",
       "      <td>316</td>\n",
       "      <td>28</td>\n",
       "      <td>NaN</td>\n",
       "    </tr>\n",
       "    <tr>\n",
       "      <th>6</th>\n",
       "      <td>2897897</td>\n",
       "      <td>33136742</td>\n",
       "      <td>2015-05-25</td>\n",
       "      <td>15317327</td>\n",
       "      <td>Nikita</td>\n",
       "      <td>The listing was completely accurate. It was a ...</td>\n",
       "      <td>Luxury Resort Style Downtown Fort Lauderdale C...</td>\n",
       "      <td>69091104</td>\n",
       "      <td>Vacation Rentals FL</td>\n",
       "      <td>NaN</td>\n",
       "      <td>...</td>\n",
       "      <td>Entire home/apt</td>\n",
       "      <td>345</td>\n",
       "      <td>3</td>\n",
       "      <td>52</td>\n",
       "      <td>2022-07-05</td>\n",
       "      <td>1.16</td>\n",
       "      <td>15</td>\n",
       "      <td>356</td>\n",
       "      <td>3</td>\n",
       "      <td>NaN</td>\n",
       "    </tr>\n",
       "    <tr>\n",
       "      <th>7</th>\n",
       "      <td>47196</td>\n",
       "      <td>33486918</td>\n",
       "      <td>2015-05-28</td>\n",
       "      <td>5093135</td>\n",
       "      <td>Grietje</td>\n",
       "      <td>My friend Liam for whom I booked this room sai...</td>\n",
       "      <td>Condo with limitless view of water, sunsets &amp; ...</td>\n",
       "      <td>31915983</td>\n",
       "      <td>Anne</td>\n",
       "      <td>NaN</td>\n",
       "      <td>...</td>\n",
       "      <td>Entire home/apt</td>\n",
       "      <td>166</td>\n",
       "      <td>180</td>\n",
       "      <td>0</td>\n",
       "      <td>NaN</td>\n",
       "      <td>NaN</td>\n",
       "      <td>1</td>\n",
       "      <td>358</td>\n",
       "      <td>0</td>\n",
       "      <td>NaN</td>\n",
       "    </tr>\n",
       "    <tr>\n",
       "      <th>8</th>\n",
       "      <td>1450262</td>\n",
       "      <td>41927093</td>\n",
       "      <td>2015-08-10</td>\n",
       "      <td>30781799</td>\n",
       "      <td>Gabriel</td>\n",
       "      <td>Sarah made me and my friends feel very welcome...</td>\n",
       "      <td>Beach apartment</td>\n",
       "      <td>183432028</td>\n",
       "      <td>Liron</td>\n",
       "      <td>NaN</td>\n",
       "      <td>...</td>\n",
       "      <td>Entire home/apt</td>\n",
       "      <td>159</td>\n",
       "      <td>2</td>\n",
       "      <td>33</td>\n",
       "      <td>2022-07-05</td>\n",
       "      <td>0.93</td>\n",
       "      <td>2</td>\n",
       "      <td>289</td>\n",
       "      <td>12</td>\n",
       "      <td>NaN</td>\n",
       "    </tr>\n",
       "    <tr>\n",
       "      <th>9</th>\n",
       "      <td>6168975</td>\n",
       "      <td>39191440</td>\n",
       "      <td>2015-07-21</td>\n",
       "      <td>34451613</td>\n",
       "      <td>Cody</td>\n",
       "      <td>Location was great, close to running paths and...</td>\n",
       "      <td>Stroll to the Beach Condo (12th St-#1)</td>\n",
       "      <td>298007223</td>\n",
       "      <td>Heather</td>\n",
       "      <td>NaN</td>\n",
       "      <td>...</td>\n",
       "      <td>Entire home/apt</td>\n",
       "      <td>229</td>\n",
       "      <td>3</td>\n",
       "      <td>43</td>\n",
       "      <td>2022-03-27</td>\n",
       "      <td>1.12</td>\n",
       "      <td>22</td>\n",
       "      <td>280</td>\n",
       "      <td>6</td>\n",
       "      <td>NaN</td>\n",
       "    </tr>\n",
       "    <tr>\n",
       "      <th>10</th>\n",
       "      <td>714043</td>\n",
       "      <td>3851474</td>\n",
       "      <td>2013-03-20</td>\n",
       "      <td>942826</td>\n",
       "      <td>Matt</td>\n",
       "      <td>The reservation was canceled 24 days before ar...</td>\n",
       "      <td>Hallandale beach. Excelente apartamento na praia</td>\n",
       "      <td>19196941</td>\n",
       "      <td>Teofilo</td>\n",
       "      <td>NaN</td>\n",
       "      <td>...</td>\n",
       "      <td>Entire home/apt</td>\n",
       "      <td>160</td>\n",
       "      <td>4</td>\n",
       "      <td>19</td>\n",
       "      <td>2022-10-31</td>\n",
       "      <td>0.39</td>\n",
       "      <td>1</td>\n",
       "      <td>3</td>\n",
       "      <td>9</td>\n",
       "      <td>NaN</td>\n",
       "    </tr>\n",
       "    <tr>\n",
       "      <th>11</th>\n",
       "      <td>6675927</td>\n",
       "      <td>42233138</td>\n",
       "      <td>2015-08-11</td>\n",
       "      <td>7690746</td>\n",
       "      <td>Jane</td>\n",
       "      <td>This house is awesome! Great location, very cl...</td>\n",
       "      <td>Blissful Studio in Hallandale Beach 8mins to b...</td>\n",
       "      <td>330758618</td>\n",
       "      <td>Manu</td>\n",
       "      <td>NaN</td>\n",
       "      <td>...</td>\n",
       "      <td>Entire home/apt</td>\n",
       "      <td>98</td>\n",
       "      <td>2</td>\n",
       "      <td>51</td>\n",
       "      <td>2022-11-29</td>\n",
       "      <td>1.46</td>\n",
       "      <td>7</td>\n",
       "      <td>81</td>\n",
       "      <td>30</td>\n",
       "      <td>NaN</td>\n",
       "    </tr>\n",
       "  </tbody>\n",
       "</table>\n",
       "<p>12 rows × 23 columns</p>\n",
       "</div>"
      ],
      "text/plain": [
       "    listing_id        id        date  reviewer_id reviewer_name  \\\n",
       "0      7249508  46024595  2015-09-07     27195451         Erika   \n",
       "1      7335567  42746589  2015-08-15      1291355          Paul   \n",
       "2      3206305  30214723  2015-04-19     27071145         Kevin   \n",
       "3       856550   5269765  2013-06-21       858695          Luke   \n",
       "4      7451624  53937319  2015-11-14     38254544        Rachel   \n",
       "5       769213  15902645  2014-07-18      2309276       Kaitlyn   \n",
       "6      2897897  33136742  2015-05-25     15317327        Nikita   \n",
       "7        47196  33486918  2015-05-28      5093135       Grietje   \n",
       "8      1450262  41927093  2015-08-10     30781799       Gabriel   \n",
       "9      6168975  39191440  2015-07-21     34451613          Cody   \n",
       "10      714043   3851474  2013-03-20       942826          Matt   \n",
       "11     6675927  42233138  2015-08-11      7690746          Jane   \n",
       "\n",
       "                                             comments  \\\n",
       "0   Katrina met us when we arrived to make sure we...   \n",
       "1   I was in a bind looking for a last minute Airb...   \n",
       "2    I cannot say enough good things about Dana an...   \n",
       "3   Responsive communication. Well run and persona...   \n",
       "4   This was my first Airbnb experience and it was...   \n",
       "5   Although we didn't get the chance to meet KT a...   \n",
       "6   The listing was completely accurate. It was a ...   \n",
       "7   My friend Liam for whom I booked this room sai...   \n",
       "8   Sarah made me and my friends feel very welcome...   \n",
       "9   Location was great, close to running paths and...   \n",
       "10  The reservation was canceled 24 days before ar...   \n",
       "11  This house is awesome! Great location, very cl...   \n",
       "\n",
       "                                                 name    host_id  \\\n",
       "0     Wonderful Home w/Pool really near to the beach!  371627540   \n",
       "1   Private Heated Pool w Outdoor Dining close to ...   14288619   \n",
       "2           Hotel unit at oceanmanor direct oceanview   44018370   \n",
       "3   Lovely Fort Lauderdale 2BD/2BT with a heated p...   16908884   \n",
       "4   Classy Home in Lighthouse Point 1 min from Marina   70563805   \n",
       "5            Waterfront Estate Home in Las Olas Isles  102397728   \n",
       "6   Luxury Resort Style Downtown Fort Lauderdale C...   69091104   \n",
       "7   Condo with limitless view of water, sunsets & ...   31915983   \n",
       "8                                     Beach apartment  183432028   \n",
       "9              Stroll to the Beach Condo (12th St-#1)  298007223   \n",
       "10   Hallandale beach. Excelente apartamento na praia   19196941   \n",
       "11  Blissful Studio in Hallandale Beach 8mins to b...  330758618   \n",
       "\n",
       "                    host_name  neighbourhood_group  ...        room_type  \\\n",
       "0                      Liubov                  NaN  ...  Entire home/apt   \n",
       "1                   Christina                  NaN  ...  Entire home/apt   \n",
       "2                    Samantha                  NaN  ...     Private room   \n",
       "3                      Martin                  NaN  ...  Entire home/apt   \n",
       "4   Hideaway Vacation Rentals                  NaN  ...  Entire home/apt   \n",
       "5                        Ruth                  NaN  ...     Private room   \n",
       "6         Vacation Rentals FL                  NaN  ...  Entire home/apt   \n",
       "7                        Anne                  NaN  ...  Entire home/apt   \n",
       "8                       Liron                  NaN  ...  Entire home/apt   \n",
       "9                     Heather                  NaN  ...  Entire home/apt   \n",
       "10                    Teofilo                  NaN  ...  Entire home/apt   \n",
       "11                       Manu                  NaN  ...  Entire home/apt   \n",
       "\n",
       "    price  minimum_nights number_of_reviews  last_review  reviews_per_month  \\\n",
       "0    1065               3                30   2022-07-25               1.18   \n",
       "1     311               4                63   2022-11-28               1.94   \n",
       "2     172               1                21   2022-12-18               3.28   \n",
       "3     321              32                21   2022-07-24               0.22   \n",
       "4     255               1                24   2022-12-15               2.16   \n",
       "5     136               2               156   2022-12-17               2.12   \n",
       "6     345               3                52   2022-07-05               1.16   \n",
       "7     166             180                 0          NaN                NaN   \n",
       "8     159               2                33   2022-07-05               0.93   \n",
       "9     229               3                43   2022-03-27               1.12   \n",
       "10    160               4                19   2022-10-31               0.39   \n",
       "11     98               2                51   2022-11-29               1.46   \n",
       "\n",
       "    calculated_host_listings_count availability_365  number_of_reviews_ltm  \\\n",
       "0                                1              347                     13   \n",
       "1                                4              177                     25   \n",
       "2                                9              325                     21   \n",
       "3                                1               83                      1   \n",
       "4                               17              314                     24   \n",
       "5                                2              316                     28   \n",
       "6                               15              356                      3   \n",
       "7                                1              358                      0   \n",
       "8                                2              289                     12   \n",
       "9                               22              280                      6   \n",
       "10                               1                3                      9   \n",
       "11                               7               81                     30   \n",
       "\n",
       "    license  \n",
       "0       NaN  \n",
       "1       NaN  \n",
       "2       NaN  \n",
       "3       NaN  \n",
       "4       NaN  \n",
       "5       NaN  \n",
       "6       NaN  \n",
       "7       NaN  \n",
       "8       NaN  \n",
       "9       NaN  \n",
       "10      NaN  \n",
       "11      NaN  \n",
       "\n",
       "[12 rows x 23 columns]"
      ]
     },
     "execution_count": 74,
     "metadata": {},
     "output_type": "execute_result"
    }
   ],
   "source": [
    "df4"
   ]
  },
  {
   "cell_type": "code",
   "execution_count": null,
   "metadata": {},
   "outputs": [
    {
     "data": {
      "text/html": [
       "<div>\n",
       "<style scoped>\n",
       "    .dataframe tbody tr th:only-of-type {\n",
       "        vertical-align: middle;\n",
       "    }\n",
       "\n",
       "    .dataframe tbody tr th {\n",
       "        vertical-align: top;\n",
       "    }\n",
       "\n",
       "    .dataframe thead th {\n",
       "        text-align: right;\n",
       "    }\n",
       "</style>\n",
       "<table border=\"1\" class=\"dataframe\">\n",
       "  <thead>\n",
       "    <tr style=\"text-align: right;\">\n",
       "      <th></th>\n",
       "      <th>listing_id</th>\n",
       "      <th>id</th>\n",
       "      <th>reviewer_id</th>\n",
       "      <th>host_id</th>\n",
       "      <th>neighbourhood_group</th>\n",
       "      <th>latitude</th>\n",
       "      <th>longitude</th>\n",
       "      <th>price</th>\n",
       "      <th>minimum_nights</th>\n",
       "      <th>number_of_reviews</th>\n",
       "      <th>reviews_per_month</th>\n",
       "      <th>calculated_host_listings_count</th>\n",
       "      <th>availability_365</th>\n",
       "      <th>number_of_reviews_ltm</th>\n",
       "      <th>license</th>\n",
       "    </tr>\n",
       "    <tr>\n",
       "      <th>room_type</th>\n",
       "      <th></th>\n",
       "      <th></th>\n",
       "      <th></th>\n",
       "      <th></th>\n",
       "      <th></th>\n",
       "      <th></th>\n",
       "      <th></th>\n",
       "      <th></th>\n",
       "      <th></th>\n",
       "      <th></th>\n",
       "      <th></th>\n",
       "      <th></th>\n",
       "      <th></th>\n",
       "      <th></th>\n",
       "      <th></th>\n",
       "    </tr>\n",
       "  </thead>\n",
       "  <tbody>\n",
       "    <tr>\n",
       "      <th>Entire home/apt</th>\n",
       "      <td>4084754.9</td>\n",
       "      <td>34180507.3</td>\n",
       "      <td>16187749.1</td>\n",
       "      <td>140579074.5</td>\n",
       "      <td>NaN</td>\n",
       "      <td>26.134847</td>\n",
       "      <td>-80.117441</td>\n",
       "      <td>310.9</td>\n",
       "      <td>23.4</td>\n",
       "      <td>33.6</td>\n",
       "      <td>1.173333</td>\n",
       "      <td>7.1</td>\n",
       "      <td>228.8</td>\n",
       "      <td>12.3</td>\n",
       "      <td>NaN</td>\n",
       "    </tr>\n",
       "    <tr>\n",
       "      <th>Private room</th>\n",
       "      <td>1987759.0</td>\n",
       "      <td>23058684.0</td>\n",
       "      <td>14690210.5</td>\n",
       "      <td>73208049.0</td>\n",
       "      <td>NaN</td>\n",
       "      <td>26.144550</td>\n",
       "      <td>-80.109780</td>\n",
       "      <td>154.0</td>\n",
       "      <td>1.5</td>\n",
       "      <td>88.5</td>\n",
       "      <td>2.700000</td>\n",
       "      <td>5.5</td>\n",
       "      <td>320.5</td>\n",
       "      <td>24.5</td>\n",
       "      <td>NaN</td>\n",
       "    </tr>\n",
       "  </tbody>\n",
       "</table>\n",
       "</div>"
      ],
      "text/plain": [
       "                 listing_id          id  reviewer_id      host_id  \\\n",
       "room_type                                                           \n",
       "Entire home/apt   4084754.9  34180507.3   16187749.1  140579074.5   \n",
       "Private room      1987759.0  23058684.0   14690210.5   73208049.0   \n",
       "\n",
       "                 neighbourhood_group   latitude  longitude  price  \\\n",
       "room_type                                                           \n",
       "Entire home/apt                  NaN  26.134847 -80.117441  310.9   \n",
       "Private room                     NaN  26.144550 -80.109780  154.0   \n",
       "\n",
       "                 minimum_nights  number_of_reviews  reviews_per_month  \\\n",
       "room_type                                                               \n",
       "Entire home/apt            23.4               33.6           1.173333   \n",
       "Private room                1.5               88.5           2.700000   \n",
       "\n",
       "                 calculated_host_listings_count  availability_365  \\\n",
       "room_type                                                           \n",
       "Entire home/apt                             7.1             228.8   \n",
       "Private room                                5.5             320.5   \n",
       "\n",
       "                 number_of_reviews_ltm  license  \n",
       "room_type                                        \n",
       "Entire home/apt                   12.3      NaN  \n",
       "Private room                      24.5      NaN  "
      ]
     },
     "execution_count": 75,
     "metadata": {},
     "output_type": "execute_result"
    }
   ],
   "source": [
    "#how to group it based on certain columns\n",
    "df4.groupby(['room_type']).mean()"
   ]
  },
  {
   "cell_type": "code",
   "execution_count": null,
   "metadata": {},
   "outputs": [],
   "source": [
    "#want only two columns\n",
    "df = df[['date', 'reviewer_id']]"
   ]
  },
  {
   "cell_type": "code",
   "execution_count": null,
   "metadata": {},
   "outputs": [
    {
     "name": "stdout",
     "output_type": "stream",
     "text": [
      "             date  reviewer_id\n",
      "0      2015-07-19     28943674\n",
      "1      2015-07-20     32440555\n",
      "2      2015-07-26     37722850\n",
      "3      2015-08-02     33671805\n",
      "4      2015-08-10     34959538\n",
      "...           ...          ...\n",
      "84844  2015-10-12     37419458\n",
      "84845  2015-10-17      6933252\n",
      "84846  2015-10-20     19543701\n",
      "84847  2015-11-02     24445024\n",
      "84848  2015-12-13     30860360\n",
      "\n",
      "[84849 rows x 2 columns]\n"
     ]
    }
   ],
   "source": [
    "print(df)"
   ]
  },
  {
   "cell_type": "code",
   "execution_count": null,
   "metadata": {},
   "outputs": [
    {
     "data": {
      "text/plain": [
       "(84849, 6)"
      ]
     },
     "execution_count": 38,
     "metadata": {},
     "output_type": "execute_result"
    }
   ],
   "source": [
    "df.shape"
   ]
  },
  {
   "cell_type": "code",
   "execution_count": null,
   "metadata": {},
   "outputs": [
    {
     "data": {
      "text/plain": [
       "listing_id        0\n",
       "id                0\n",
       "date              0\n",
       "reviewer_id       0\n",
       "reviewer_name     0\n",
       "comments         18\n",
       "dtype: int64"
      ]
     },
     "execution_count": 43,
     "metadata": {},
     "output_type": "execute_result"
    }
   ],
   "source": [
    "df.isnull().sum()"
   ]
  },
  {
   "cell_type": "code",
   "execution_count": null,
   "metadata": {},
   "outputs": [],
   "source": [
    "df2 = df.dropna()"
   ]
  },
  {
   "cell_type": "code",
   "execution_count": null,
   "metadata": {},
   "outputs": [
    {
     "data": {
      "text/plain": [
       "listing_id       0\n",
       "id               0\n",
       "date             0\n",
       "reviewer_id      0\n",
       "reviewer_name    0\n",
       "comments         0\n",
       "dtype: int64"
      ]
     },
     "execution_count": 41,
     "metadata": {},
     "output_type": "execute_result"
    }
   ],
   "source": [
    "df2.isnull().sum()"
   ]
  },
  {
   "cell_type": "code",
   "execution_count": null,
   "metadata": {},
   "outputs": [
    {
     "data": {
      "text/html": [
       "<div>\n",
       "<style scoped>\n",
       "    .dataframe tbody tr th:only-of-type {\n",
       "        vertical-align: middle;\n",
       "    }\n",
       "\n",
       "    .dataframe tbody tr th {\n",
       "        vertical-align: top;\n",
       "    }\n",
       "\n",
       "    .dataframe thead th {\n",
       "        text-align: right;\n",
       "    }\n",
       "</style>\n",
       "<table border=\"1\" class=\"dataframe\">\n",
       "  <thead>\n",
       "    <tr style=\"text-align: right;\">\n",
       "      <th></th>\n",
       "      <th>id</th>\n",
       "      <th>name</th>\n",
       "      <th>host_id</th>\n",
       "      <th>host_name</th>\n",
       "      <th>neighbourhood_group</th>\n",
       "      <th>neighbourhood</th>\n",
       "      <th>latitude</th>\n",
       "      <th>longitude</th>\n",
       "      <th>room_type</th>\n",
       "      <th>price</th>\n",
       "      <th>minimum_nights</th>\n",
       "      <th>number_of_reviews</th>\n",
       "      <th>last_review</th>\n",
       "      <th>reviews_per_month</th>\n",
       "      <th>calculated_host_listings_count</th>\n",
       "      <th>availability_365</th>\n",
       "      <th>number_of_reviews_ltm</th>\n",
       "      <th>license</th>\n",
       "    </tr>\n",
       "  </thead>\n",
       "  <tbody>\n",
       "    <tr>\n",
       "      <th>0</th>\n",
       "      <td>83449</td>\n",
       "      <td>MARY POP APTS 2/1 APT SLEEP 5</td>\n",
       "      <td>454736</td>\n",
       "      <td>Jon,  Mary Pop Apartments</td>\n",
       "      <td>NaN</td>\n",
       "      <td>Dania Beach</td>\n",
       "      <td>26.03392</td>\n",
       "      <td>-80.14201</td>\n",
       "      <td>Entire home/apt</td>\n",
       "      <td>99</td>\n",
       "      <td>7</td>\n",
       "      <td>23</td>\n",
       "      <td>2022-12-08</td>\n",
       "      <td>0.17</td>\n",
       "      <td>8</td>\n",
       "      <td>0</td>\n",
       "      <td>3</td>\n",
       "      <td>NaN</td>\n",
       "    </tr>\n",
       "    <tr>\n",
       "      <th>1</th>\n",
       "      <td>69824</td>\n",
       "      <td>2 bd/2ba Oceanfront Condo</td>\n",
       "      <td>351303</td>\n",
       "      <td>Tracy</td>\n",
       "      <td>NaN</td>\n",
       "      <td>Hallandale Beach</td>\n",
       "      <td>25.97641</td>\n",
       "      <td>-80.12052</td>\n",
       "      <td>Entire home/apt</td>\n",
       "      <td>150</td>\n",
       "      <td>30</td>\n",
       "      <td>3</td>\n",
       "      <td>2022-08-15</td>\n",
       "      <td>0.05</td>\n",
       "      <td>2</td>\n",
       "      <td>276</td>\n",
       "      <td>1</td>\n",
       "      <td>NaN</td>\n",
       "    </tr>\n",
       "    <tr>\n",
       "      <th>2</th>\n",
       "      <td>191160</td>\n",
       "      <td>Tropical Beach Paradise Awaits You</td>\n",
       "      <td>924482</td>\n",
       "      <td>Dan</td>\n",
       "      <td>NaN</td>\n",
       "      <td>Deerfield Beach</td>\n",
       "      <td>26.30707</td>\n",
       "      <td>-80.07793</td>\n",
       "      <td>Entire home/apt</td>\n",
       "      <td>119</td>\n",
       "      <td>2</td>\n",
       "      <td>25</td>\n",
       "      <td>2019-11-08</td>\n",
       "      <td>0.19</td>\n",
       "      <td>1</td>\n",
       "      <td>87</td>\n",
       "      <td>0</td>\n",
       "      <td>NaN</td>\n",
       "    </tr>\n",
       "    <tr>\n",
       "      <th>3</th>\n",
       "      <td>129099</td>\n",
       "      <td>MIAMI - AMAZING APARTMENT OCEANVIEW</td>\n",
       "      <td>637272</td>\n",
       "      <td>Bianca</td>\n",
       "      <td>NaN</td>\n",
       "      <td>Hollywood</td>\n",
       "      <td>25.99416</td>\n",
       "      <td>-80.11969</td>\n",
       "      <td>Entire home/apt</td>\n",
       "      <td>225</td>\n",
       "      <td>28</td>\n",
       "      <td>27</td>\n",
       "      <td>2022-07-01</td>\n",
       "      <td>0.20</td>\n",
       "      <td>6</td>\n",
       "      <td>338</td>\n",
       "      <td>2</td>\n",
       "      <td>NaN</td>\n",
       "    </tr>\n",
       "    <tr>\n",
       "      <th>4</th>\n",
       "      <td>129061</td>\n",
       "      <td>MIAMI - LUXURY APARTMENT OVER BEACH</td>\n",
       "      <td>637272</td>\n",
       "      <td>Bianca</td>\n",
       "      <td>NaN</td>\n",
       "      <td>Hollywood</td>\n",
       "      <td>25.99332</td>\n",
       "      <td>-80.11887</td>\n",
       "      <td>Entire home/apt</td>\n",
       "      <td>261</td>\n",
       "      <td>28</td>\n",
       "      <td>21</td>\n",
       "      <td>2022-03-27</td>\n",
       "      <td>0.15</td>\n",
       "      <td>6</td>\n",
       "      <td>336</td>\n",
       "      <td>2</td>\n",
       "      <td>NaN</td>\n",
       "    </tr>\n",
       "  </tbody>\n",
       "</table>\n",
       "</div>"
      ],
      "text/plain": [
       "       id                                 name  host_id  \\\n",
       "0   83449        MARY POP APTS 2/1 APT SLEEP 5   454736   \n",
       "1   69824            2 bd/2ba Oceanfront Condo   351303   \n",
       "2  191160   Tropical Beach Paradise Awaits You   924482   \n",
       "3  129099  MIAMI - AMAZING APARTMENT OCEANVIEW   637272   \n",
       "4  129061  MIAMI - LUXURY APARTMENT OVER BEACH   637272   \n",
       "\n",
       "                   host_name  neighbourhood_group     neighbourhood  latitude  \\\n",
       "0  Jon,  Mary Pop Apartments                  NaN       Dania Beach  26.03392   \n",
       "1                      Tracy                  NaN  Hallandale Beach  25.97641   \n",
       "2                        Dan                  NaN   Deerfield Beach  26.30707   \n",
       "3                     Bianca                  NaN         Hollywood  25.99416   \n",
       "4                     Bianca                  NaN         Hollywood  25.99332   \n",
       "\n",
       "   longitude        room_type  price  minimum_nights  number_of_reviews  \\\n",
       "0  -80.14201  Entire home/apt     99               7                 23   \n",
       "1  -80.12052  Entire home/apt    150              30                  3   \n",
       "2  -80.07793  Entire home/apt    119               2                 25   \n",
       "3  -80.11969  Entire home/apt    225              28                 27   \n",
       "4  -80.11887  Entire home/apt    261              28                 21   \n",
       "\n",
       "  last_review  reviews_per_month  calculated_host_listings_count  \\\n",
       "0  2022-12-08               0.17                               8   \n",
       "1  2022-08-15               0.05                               2   \n",
       "2  2019-11-08               0.19                               1   \n",
       "3  2022-07-01               0.20                               6   \n",
       "4  2022-03-27               0.15                               6   \n",
       "\n",
       "   availability_365  number_of_reviews_ltm  license  \n",
       "0                 0                      3      NaN  \n",
       "1               276                      1      NaN  \n",
       "2                87                      0      NaN  \n",
       "3               338                      2      NaN  \n",
       "4               336                      2      NaN  "
      ]
     },
     "execution_count": 18,
     "metadata": {},
     "output_type": "execute_result"
    }
   ],
   "source": [
    "df3.head()"
   ]
  },
  {
   "cell_type": "code",
   "execution_count": null,
   "metadata": {},
   "outputs": [
    {
     "data": {
      "text/plain": [
       "392.03823279524215"
      ]
     },
     "execution_count": 19,
     "metadata": {},
     "output_type": "execute_result"
    }
   ],
   "source": [
    "#get the average price of the listings\n",
    "df3['price'].mean()"
   ]
  },
  {
   "cell_type": "code",
   "execution_count": null,
   "metadata": {},
   "outputs": [
    {
     "data": {
      "text/plain": [
       "neighbourhood\n",
       "Coconut Creek               17.220339\n",
       "Cooper City                 30.103448\n",
       "Coral Springs               11.060241\n",
       "County Regional Facility    22.333333\n",
       "Dania Beach                 27.003591\n",
       "Davie                       23.863905\n",
       "Deerfield Beach             26.771233\n",
       "Fort Lauderdale             34.773091\n",
       "Hallandale Beach            17.017891\n",
       "Hillsboro Beach             11.419355\n",
       "Hollywood                   25.189170\n",
       "Lauderdale By The Sea       29.626741\n",
       "Lauderdale Lakes            23.886792\n",
       "Lauderhill                  13.490909\n",
       "Lazy Lake                   20.166667\n",
       "Lighthouse Point            17.010101\n",
       "Margate                     15.895833\n",
       "Miramar                     23.860714\n",
       "North Lauderdale            15.000000\n",
       "Oakland Park                29.539526\n",
       "Parkland                    23.222222\n",
       "Pembroke Park               10.823529\n",
       "Pembroke Pines              24.893333\n",
       "Plantation                  20.458763\n",
       "Pompano Beach               20.504325\n",
       "Sea Ranch Lakes             45.222222\n",
       "Southwest Ranches           26.038462\n",
       "Sunrise                     28.239583\n",
       "Tamarac                     16.977011\n",
       "Tribal Land                  0.000000\n",
       "Unincorporated              12.653846\n",
       "West Park                   30.440367\n",
       "Weston                       4.750000\n",
       "Wilton Manors               40.524291\n",
       "Name: number_of_reviews, dtype: float64"
      ]
     },
     "execution_count": 20,
     "metadata": {},
     "output_type": "execute_result"
    }
   ],
   "source": [
    "#get the average number of review for each neighbourhood\n",
    "df3.groupby('neighbourhood')['number_of_reviews'].mean()\n",
    "\n"
   ]
  },
  {
   "cell_type": "code",
   "execution_count": null,
   "metadata": {},
   "outputs": [
    {
     "data": {
      "text/plain": [
       "<AxesSubplot:>"
      ]
     },
     "execution_count": 21,
     "metadata": {},
     "output_type": "execute_result"
    },
    {
     "data": {
      "image/png": "[encoded data removed]",
      "text/plain": [
       "<Figure size 640x480 with 1 Axes>"
      ]
     },
     "metadata": {},
     "output_type": "display_data"
    }
   ],
   "source": [
    "#get the room type for each neighbourhood and plot it\n",
    "df3.groupby('neighbourhood')['room_type'].head(10).value_counts().plot(kind='bar')\n"
   ]
  },
  {
   "cell_type": "code",
   "execution_count": null,
   "metadata": {},
   "outputs": [
    {
     "data": {
      "text/plain": [
       "-0.05298536672469762"
      ]
     },
     "execution_count": 24,
     "metadata": {},
     "output_type": "execute_result"
    }
   ],
   "source": [
    "#test the correlation between the price and the number of reviews\n",
    "df3['price'].corr(df3['number_of_reviews'])\n"
   ]
  },
  {
   "cell_type": "code",
   "execution_count": null,
   "metadata": {},
   "outputs": [],
   "source": [
    "df4 = pd.read_csv('neighbourhoods.csv')"
   ]
  },
  {
   "cell_type": "code",
   "execution_count": null,
   "metadata": {},
   "outputs": [
    {
     "data": {
      "text/html": [
       "<div>\n",
       "<style scoped>\n",
       "    .dataframe tbody tr th:only-of-type {\n",
       "        vertical-align: middle;\n",
       "    }\n",
       "\n",
       "    .dataframe tbody tr th {\n",
       "        vertical-align: top;\n",
       "    }\n",
       "\n",
       "    .dataframe thead th {\n",
       "        text-align: right;\n",
       "    }\n",
       "</style>\n",
       "<table border=\"1\" class=\"dataframe\">\n",
       "  <thead>\n",
       "    <tr style=\"text-align: right;\">\n",
       "      <th></th>\n",
       "      <th>neighbourhood_group</th>\n",
       "      <th>neighbourhood</th>\n",
       "    </tr>\n",
       "  </thead>\n",
       "  <tbody>\n",
       "    <tr>\n",
       "      <th>0</th>\n",
       "      <td>NaN</td>\n",
       "      <td>Coconut Creek</td>\n",
       "    </tr>\n",
       "    <tr>\n",
       "      <th>1</th>\n",
       "      <td>NaN</td>\n",
       "      <td>Cooper City</td>\n",
       "    </tr>\n",
       "    <tr>\n",
       "      <th>2</th>\n",
       "      <td>NaN</td>\n",
       "      <td>Coral Springs</td>\n",
       "    </tr>\n",
       "    <tr>\n",
       "      <th>3</th>\n",
       "      <td>NaN</td>\n",
       "      <td>County Regional Facility</td>\n",
       "    </tr>\n",
       "    <tr>\n",
       "      <th>4</th>\n",
       "      <td>NaN</td>\n",
       "      <td>Dania Beach</td>\n",
       "    </tr>\n",
       "  </tbody>\n",
       "</table>\n",
       "</div>"
      ],
      "text/plain": [
       "   neighbourhood_group             neighbourhood\n",
       "0                  NaN             Coconut Creek\n",
       "1                  NaN               Cooper City\n",
       "2                  NaN             Coral Springs\n",
       "3                  NaN  County Regional Facility\n",
       "4                  NaN               Dania Beach"
      ]
     },
     "execution_count": 27,
     "metadata": {},
     "output_type": "execute_result"
    }
   ],
   "source": [
    "df4.head()"
   ]
  }
 ],
 "metadata": {
  "kernelspec": {
   "display_name": "base",
   "language": "python",
   "name": "python3"
  },
  "language_info": {
   "codemirror_mode": {
    "name": "ipython",
    "version": 3
   },
   "file_extension": ".py",
   "mimetype": "text/x-python",
   "name": "python",
   "nbconvert_exporter": "python",
   "pygments_lexer": "ipython3",
   "version": "3.9.13"
  },
  "orig_nbformat": 4
 },
 "nbformat": 4,
 "nbformat_minor": 2
}
